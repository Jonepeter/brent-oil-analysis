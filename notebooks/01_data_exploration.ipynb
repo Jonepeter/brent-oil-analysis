{
 "cells": [
  {
   "cell_type": "markdown",
   "metadata": {},
   "source": [
    "# Task 1: Data Exploration and Workflow Definition\n",
    "\n",
    "## Objectives\n",
    "1. Define data analysis workflow\n",
    "2. Understand the model and data\n",
    "3. Analyze time series properties\n",
    "4. Research and compile event data"
   ]
  },
  {
   "cell_type": "code",
   "execution_count": 3,
   "metadata": {},
   "outputs": [],
   "source": [
    "import sys\n",
    "import os\n",
    "system_path = os.path.abspath('..')\n",
    "if system_path not in sys.path:\n",
    "    sys.path.append(system_path)\n",
    "%load_ext autoreload\n",
    "%autoreload 2"
   ]
  },
  {
   "cell_type": "code",
   "execution_count": 5,
   "metadata": {},
   "outputs": [],
   "source": [
    "import pandas as pd\n",
    "import numpy as np\n",
    "import matplotlib.pyplot as plt\n",
    "import seaborn as sns\n",
    "from src.utils.data_loader import load_brent_data, load_events_data\n",
    "from src.analysis.time_series_analysis import TimeSeriesAnalyzer\n",
    "\n",
    "plt.style.use('seaborn-v0_8')"
   ]
  },
  {
   "cell_type": "markdown",
   "metadata": {},
   "source": [
    "## 1. Data Analysis Workflow\n",
    "\n",
    "### Workflow Steps:\n",
    "1. **Data Collection & Preprocessing**\n",
    "   - Load Brent oil price data\n",
    "   - Research and compile major events\n",
    "   - Clean and prepare data\n",
    "\n",
    "2. **Exploratory Data Analysis**\n",
    "   - Analyze time series properties\n",
    "   - Check for stationarity\n",
    "   - Identify trends and volatility patterns\n",
    "\n",
    "3. **Change Point Modeling**\n",
    "   - Implement Bayesian change point detection\n",
    "   - Identify structural breaks\n",
    "   - Validate model convergence\n",
    "\n",
    "4. **Event Association**\n",
    "   - Match change points with events\n",
    "   - Quantify impact\n",
    "   - Statistical validation\n",
    "\n",
    "5. **Results Communication**\n",
    "   - Interactive dashboard\n",
    "   - Executive summary\n",
    "   - Technical report"
   ]
  },
  {
   "cell_type": "code",
   "execution_count": 9,
   "metadata": {},
   "outputs": [
    {
     "name": "stdout",
     "output_type": "stream",
     "text": [
      "Events Data:\n",
      "        Date                     Event      Category  \\\n",
      "0 1990-08-02           Gulf War Begins  Geopolitical   \n",
      "1 1991-01-17     Gulf War Air Campaign  Geopolitical   \n",
      "2 2001-09-11              9/11 Attacks  Geopolitical   \n",
      "3 2003-03-20           Iraq War Begins  Geopolitical   \n",
      "4 2008-09-15  Lehman Brothers Collapse      Economic   \n",
      "\n",
      "                                       Description Impact_Expected  \n",
      "0          Iraq invades Kuwait leading to Gulf War            High  \n",
      "1  Coalition forces begin air strikes against Iraq            High  \n",
      "2           Terrorist attacks in the United States            High  \n",
      "3                   US-led invasion of Iraq begins            High  \n",
      "4              Global financial crisis intensifies            High  \n",
      "\n",
      "Total events: 15\n"
     ]
    }
   ],
   "source": [
    "# Load data (assuming you have the Brent oil data file)\n",
    "df = load_brent_data('../data/raw/BrentOilPrices.csv')\n",
    "events_df = load_events_data('../data/events_data.csv')\n",
    "\n",
    "print(\"Events Data:\")\n",
    "print(events_df.head())\n",
    "print(f\"\\nTotal events: {len(events_df)}\")"
   ]
  },
  {
   "cell_type": "code",
   "execution_count": 10,
   "metadata": {},
   "outputs": [
    {
     "data": {
      "application/vnd.microsoft.datawrangler.viewer.v0+json": {
       "columns": [
        {
         "name": "index",
         "rawType": "int64",
         "type": "integer"
        },
        {
         "name": "Date",
         "rawType": "datetime64[ns]",
         "type": "datetime"
        },
        {
         "name": "Price",
         "rawType": "float64",
         "type": "float"
        },
        {
         "name": "log_returns",
         "rawType": "float64",
         "type": "float"
        }
       ],
       "ref": "3c28d540-94dc-476e-9ce4-c06f03540452",
       "rows": [
        [
         "0",
         "1987-05-20 00:00:00",
         "18.63",
         null
        ],
        [
         "1",
         "1987-05-21 00:00:00",
         "18.45",
         "-0.009708814126960785"
        ],
        [
         "2",
         "1987-05-22 00:00:00",
         "18.55",
         "0.005405418566907905"
        ],
        [
         "3",
         "1987-05-25 00:00:00",
         "18.6",
         "0.0026917916657116514"
        ],
        [
         "4",
         "1987-05-26 00:00:00",
         "18.63",
         "0.0016116038943412292"
        ],
        [
         "5",
         "1987-05-27 00:00:00",
         "18.6",
         "-0.0016116038943412292"
        ],
        [
         "6",
         "1987-05-28 00:00:00",
         "18.6",
         "0.0"
        ],
        [
         "7",
         "1987-05-29 00:00:00",
         "18.58",
         "-0.0010758473334635532"
        ],
        [
         "8",
         "1987-06-01 00:00:00",
         "18.65",
         "0.00376041270413241"
        ],
        [
         "9",
         "1987-06-02 00:00:00",
         "18.68",
         "0.001607286710871847"
        ],
        [
         "10",
         "1987-06-03 00:00:00",
         "18.75",
         "0.0037403196157232976"
        ],
        [
         "11",
         "1987-06-04 00:00:00",
         "18.78",
         "0.0015987213636972086"
        ],
        [
         "12",
         "1987-06-05 00:00:00",
         "18.65",
         "-0.006946327690292353"
        ],
        [
         "13",
         "1987-06-08 00:00:00",
         "18.75",
         "0.0053476063265951446"
        ],
        [
         "14",
         "1987-06-09 00:00:00",
         "18.78",
         "0.0015987213636972086"
        ],
        [
         "15",
         "1987-06-10 00:00:00",
         "18.78",
         "0.0"
        ],
        [
         "16",
         "1987-06-11 00:00:00",
         "18.68",
         "-0.005339040979420506"
        ],
        [
         "17",
         "1987-06-12 00:00:00",
         "18.78",
         "0.005339040979420506"
        ],
        [
         "18",
         "1987-06-16 00:00:00",
         "18.9",
         "0.006369448285479695"
        ],
        [
         "19",
         "1987-06-17 00:00:00",
         "19.03",
         "0.006854759242461483"
        ],
        [
         "20",
         "1987-06-18 00:00:00",
         "19.05",
         "0.0010504202646517413"
        ],
        [
         "21",
         "1987-06-19 00:00:00",
         "19.05",
         "0.0"
        ],
        [
         "22",
         "1987-06-22 00:00:00",
         "19.1",
         "0.0026212334798745296"
        ],
        [
         "23",
         "1987-06-23 00:00:00",
         "18.9",
         "-0.010526412986987754"
        ],
        [
         "24",
         "1987-06-24 00:00:00",
         "18.75",
         "-0.007968169649176904"
        ],
        [
         "25",
         "1987-06-25 00:00:00",
         "18.7",
         "-0.0026702285558788397"
        ],
        [
         "26",
         "1987-06-26 00:00:00",
         "19.08",
         "0.020117142159599588"
        ],
        [
         "27",
         "1987-06-29 00:00:00",
         "19.15",
         "0.003662049606514284"
        ],
        [
         "28",
         "1987-06-30 00:00:00",
         "19.08",
         "-0.003662049606514284"
        ],
        [
         "29",
         "1987-07-01 00:00:00",
         "18.98",
         "-0.005254872838358793"
        ],
        [
         "30",
         "1987-07-02 00:00:00",
         "19.25",
         "0.0141252675520116"
        ],
        [
         "31",
         "1987-07-03 00:00:00",
         "19.33",
         "0.004147232486446217"
        ],
        [
         "32",
         "1987-07-06 00:00:00",
         "19.48",
         "0.007730004994149553"
        ],
        [
         "33",
         "1987-07-07 00:00:00",
         "19.5",
         "0.0010261673553118023"
        ],
        [
         "34",
         "1987-07-08 00:00:00",
         "19.48",
         "-0.0010261673553118023"
        ],
        [
         "35",
         "1987-07-09 00:00:00",
         "19.68",
         "0.010214593409718198"
        ],
        [
         "36",
         "1987-07-10 00:00:00",
         "19.73",
         "0.002537428410416709"
        ],
        [
         "37",
         "1987-07-13 00:00:00",
         "19.83",
         "0.005055622497180501"
        ],
        [
         "38",
         "1987-07-14 00:00:00",
         "19.88",
         "0.0025182586967233966"
        ],
        [
         "39",
         "1987-07-15 00:00:00",
         "20.28",
         "0.01992097749455457"
        ],
        [
         "40",
         "1987-07-16 00:00:00",
         "20.4",
         "0.005899722127188145"
        ],
        [
         "41",
         "1987-07-17 00:00:00",
         "20.63",
         "0.011211426232989652"
        ],
        [
         "42",
         "1987-07-20 00:00:00",
         "20.55",
         "-0.0038853861409164914"
        ],
        [
         "43",
         "1987-07-21 00:00:00",
         "20.35",
         "-0.009780029053639616"
        ],
        [
         "44",
         "1987-07-22 00:00:00",
         "20.33",
         "-0.0009832842483490367"
        ],
        [
         "45",
         "1987-07-23 00:00:00",
         "20.15",
         "-0.008893339247563414"
        ],
        [
         "46",
         "1987-07-24 00:00:00",
         "19.58",
         "-0.028695651290327362"
        ],
        [
         "47",
         "1987-07-27 00:00:00",
         "19.3",
         "-0.01440354119152465"
        ],
        [
         "48",
         "1987-07-28 00:00:00",
         "19.78",
         "0.024566230283726398"
        ],
        [
         "49",
         "1987-07-29 00:00:00",
         "19.98",
         "0.010060447025841412"
        ]
       ],
       "shape": {
        "columns": 3,
        "rows": 9011
       }
      },
      "text/html": [
       "<div>\n",
       "<style scoped>\n",
       "    .dataframe tbody tr th:only-of-type {\n",
       "        vertical-align: middle;\n",
       "    }\n",
       "\n",
       "    .dataframe tbody tr th {\n",
       "        vertical-align: top;\n",
       "    }\n",
       "\n",
       "    .dataframe thead th {\n",
       "        text-align: right;\n",
       "    }\n",
       "</style>\n",
       "<table border=\"1\" class=\"dataframe\">\n",
       "  <thead>\n",
       "    <tr style=\"text-align: right;\">\n",
       "      <th></th>\n",
       "      <th>Date</th>\n",
       "      <th>Price</th>\n",
       "      <th>log_returns</th>\n",
       "    </tr>\n",
       "  </thead>\n",
       "  <tbody>\n",
       "    <tr>\n",
       "      <th>0</th>\n",
       "      <td>1987-05-20</td>\n",
       "      <td>18.63</td>\n",
       "      <td>NaN</td>\n",
       "    </tr>\n",
       "    <tr>\n",
       "      <th>1</th>\n",
       "      <td>1987-05-21</td>\n",
       "      <td>18.45</td>\n",
       "      <td>-0.009709</td>\n",
       "    </tr>\n",
       "    <tr>\n",
       "      <th>2</th>\n",
       "      <td>1987-05-22</td>\n",
       "      <td>18.55</td>\n",
       "      <td>0.005405</td>\n",
       "    </tr>\n",
       "    <tr>\n",
       "      <th>3</th>\n",
       "      <td>1987-05-25</td>\n",
       "      <td>18.60</td>\n",
       "      <td>0.002692</td>\n",
       "    </tr>\n",
       "    <tr>\n",
       "      <th>4</th>\n",
       "      <td>1987-05-26</td>\n",
       "      <td>18.63</td>\n",
       "      <td>0.001612</td>\n",
       "    </tr>\n",
       "    <tr>\n",
       "      <th>...</th>\n",
       "      <td>...</td>\n",
       "      <td>...</td>\n",
       "      <td>...</td>\n",
       "    </tr>\n",
       "    <tr>\n",
       "      <th>9006</th>\n",
       "      <td>2022-11-08</td>\n",
       "      <td>96.85</td>\n",
       "      <td>-0.030706</td>\n",
       "    </tr>\n",
       "    <tr>\n",
       "      <th>9007</th>\n",
       "      <td>2022-11-09</td>\n",
       "      <td>93.05</td>\n",
       "      <td>-0.040026</td>\n",
       "    </tr>\n",
       "    <tr>\n",
       "      <th>9008</th>\n",
       "      <td>2022-11-10</td>\n",
       "      <td>94.25</td>\n",
       "      <td>0.012814</td>\n",
       "    </tr>\n",
       "    <tr>\n",
       "      <th>9009</th>\n",
       "      <td>2022-11-11</td>\n",
       "      <td>96.37</td>\n",
       "      <td>0.022244</td>\n",
       "    </tr>\n",
       "    <tr>\n",
       "      <th>9010</th>\n",
       "      <td>2022-11-14</td>\n",
       "      <td>93.59</td>\n",
       "      <td>-0.029271</td>\n",
       "    </tr>\n",
       "  </tbody>\n",
       "</table>\n",
       "<p>9011 rows × 3 columns</p>\n",
       "</div>"
      ],
      "text/plain": [
       "           Date  Price  log_returns\n",
       "0    1987-05-20  18.63          NaN\n",
       "1    1987-05-21  18.45    -0.009709\n",
       "2    1987-05-22  18.55     0.005405\n",
       "3    1987-05-25  18.60     0.002692\n",
       "4    1987-05-26  18.63     0.001612\n",
       "...         ...    ...          ...\n",
       "9006 2022-11-08  96.85    -0.030706\n",
       "9007 2022-11-09  93.05    -0.040026\n",
       "9008 2022-11-10  94.25     0.012814\n",
       "9009 2022-11-11  96.37     0.022244\n",
       "9010 2022-11-14  93.59    -0.029271\n",
       "\n",
       "[9011 rows x 3 columns]"
      ]
     },
     "execution_count": 10,
     "metadata": {},
     "output_type": "execute_result"
    }
   ],
   "source": [
    "df"
   ]
  },
  {
   "cell_type": "markdown",
   "metadata": {},
   "source": [
    "## 2. Assumptions and Limitations\n",
    "\n",
    "### Key Assumptions:\n",
    "- Oil prices follow a time series with potential structural breaks\n",
    "- Major geopolitical/economic events can cause structural changes\n",
    "- Log returns are more stationary than raw prices\n",
    "- Change points occur at discrete time points\n",
    "\n",
    "### Limitations:\n",
    "- **Correlation vs Causation**: Statistical correlation in time does not prove causal impact\n",
    "- Model assumes single change point (can be extended)\n",
    "- External factors not captured in the model\n",
    "- Market efficiency may already price in anticipated events"
   ]
  },
  {
   "cell_type": "markdown",
   "metadata": {},
   "source": [
    "## 3. Change Point Models Purpose\n",
    "\n",
    "Change point models help identify:\n",
    "- **Structural breaks** in time series data\n",
    "- **Regime changes** in market behavior\n",
    "- **Timing** of significant shifts\n",
    "- **Magnitude** of parameter changes\n",
    "\n",
    "### Expected Outputs:\n",
    "- Change point dates with confidence intervals\n",
    "- Before/after parameter estimates (mean, volatility)\n",
    "- Probability distributions for all parameters\n",
    "- Model diagnostics and convergence metrics"
   ]
  }
 ],
 "metadata": {
  "kernelspec": {
   "display_name": "Python 3",
   "language": "python",
   "name": "python3"
  },
  "language_info": {
   "codemirror_mode": {
    "name": "ipython",
    "version": 3
   },
   "file_extension": ".py",
   "mimetype": "text/x-python",
   "name": "python",
   "nbconvert_exporter": "python",
   "pygments_lexer": "ipython3",
   "version": "3.13.5"
  }
 },
 "nbformat": 4,
 "nbformat_minor": 4
}
